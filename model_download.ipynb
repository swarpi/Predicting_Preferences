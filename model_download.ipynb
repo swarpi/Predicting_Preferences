{
 "cells": [
  {
   "cell_type": "code",
   "execution_count": null,
   "metadata": {},
   "outputs": [],
   "source": [
    "from transformers import AutoModelForCausalLM, AutoTokenizer\n",
    "import os\n",
    "\n",
    "# Define paths\n",
    "TOKENIZER_PATH = \"models/hf-frompretrained-download/meta-llama/Meta-Llama-3-8B-Instruct\"\n",
    "MODEL_PATH = \"models/hf-frompretrained-downloadmeta-llama/Meta-Llama-3-8B-Instruct\"\n",
    "MODEL_NAME = \"meta-llama/Meta-Llama-3-8B-Instruct\"\n",
    "\n",
    "# Ensure directories exist\n",
    "os.makedirs(TOKENIZER_PATH, exist_ok=True)\n",
    "os.makedirs(MODEL_PATH, exist_ok=True)\n",
    "\n",
    "def download_huggingface_model():\n",
    "    \"\"\"Downloads the model and tokenizer from Hugging Face and saves them locally.\"\"\"\n",
    "    \n",
    "    print(\"Downloading tokenizer...\")\n",
    "    tokenizer = AutoTokenizer.from_pretrained(MODEL_NAME)\n",
    "    tokenizer.save_pretrained(TOKENIZER_PATH)\n",
    "    print(f\"Tokenizer saved to {TOKENIZER_PATH}\")\n",
    "\n",
    "    print(\"Downloading model...\")\n",
    "    model = AutoModelForCausalLM.from_pretrained(MODEL_NAME)\n",
    "    model.save_pretrained(MODEL_PATH)\n",
    "    print(f\"Model saved to {MODEL_PATH}\")\n",
    "\n",
    "# Run the function\n",
    "download_huggingface_model()\n"
   ]
  }
 ],
 "metadata": {
  "kernelspec": {
   "display_name": "Python 3",
   "language": "python",
   "name": "python3"
  },
  "language_info": {
   "name": "python",
   "version": "3.10.13"
  }
 },
 "nbformat": 4,
 "nbformat_minor": 2
}
