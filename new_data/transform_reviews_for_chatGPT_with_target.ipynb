{
 "cells": [
  {
   "cell_type": "code",
   "execution_count": 2,
   "metadata": {},
   "outputs": [
    {
     "name": "stdout",
     "output_type": "stream",
     "text": [
      "Transformation complete. Check output.json for results.\n"
     ]
    }
   ],
   "source": [
    "import json\n",
    "\n",
    "def transform_reviews(input_file, output_file):\n",
    "    # Read the input JSON\n",
    "    with open(input_file, \"r\", encoding=\"utf-8\") as f:\n",
    "        data = json.load(f)\n",
    "    \n",
    "    transformed_data = []\n",
    "\n",
    "    for user_entry in data:\n",
    "        # Grab the user_id\n",
    "        user_id = user_entry[\"user_id\"]\n",
    "\n",
    "        # Grab all reviews\n",
    "        all_reviews = user_entry[\"reviews\"]\n",
    "\n",
    "        # Identify the last review to get the 'target' product name\n",
    "        # (i.e., the last item in the 'reviews' list)\n",
    "        last_review = all_reviews[-1]\n",
    "        target_product_name = last_review[\"product_name\"]\n",
    "\n",
    "        # Build a new \"reviews\" list that omits the product_name \n",
    "        # (and any other fields you don’t want carried over)\n",
    "        new_reviews = []\n",
    "        for rev in all_reviews:\n",
    "            new_reviews.append({\n",
    "                \"text\": rev.get(\"text\", \"\"),\n",
    "                \"parent_asin\": rev.get(\"parent_asin\", \"\"),\n",
    "                \"rating\": rev.get(\"rating\", 0),\n",
    "                \"title\": rev.get(\"title\", \"\"),\n",
    "                \"timestamp\": rev.get(\"timestamp\", 0),\n",
    "                \"product_name\": rev.get(\"product_name\", 0)\n",
    "            })\n",
    "        \n",
    "        # Construct the final data structure for this user\n",
    "        transformed_data.append({\n",
    "            \"user_id\": user_id,\n",
    "            \"reviews\": new_reviews,\n",
    "            \"target\": target_product_name\n",
    "        })\n",
    "\n",
    "    # Write the transformed data to a new JSON file (or print it)\n",
    "    with open(output_file, \"w\", encoding=\"utf-8\") as f:\n",
    "        json.dump(transformed_data, f, ensure_ascii=False, indent=4)\n",
    "\n",
    "if __name__ == \"__main__\":\n",
    "    transform_reviews(\"Video_Games.shortened_reduced_300_users.json\", \"output.json\")\n",
    "    print(\"Transformation complete. Check output.json for results.\")\n"
   ]
  }
 ],
 "metadata": {
  "kernelspec": {
   "display_name": "torch_recommender",
   "language": "python",
   "name": "python3"
  },
  "language_info": {
   "codemirror_mode": {
    "name": "ipython",
    "version": 3
   },
   "file_extension": ".py",
   "mimetype": "text/x-python",
   "name": "python",
   "nbconvert_exporter": "python",
   "pygments_lexer": "ipython3",
   "version": "3.10.10"
  }
 },
 "nbformat": 4,
 "nbformat_minor": 2
}
