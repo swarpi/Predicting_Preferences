{
 "cells": [
  {
   "cell_type": "code",
   "execution_count": 3,
   "metadata": {},
   "outputs": [],
   "source": [
    "import json\n",
    "\n",
    "# Example file paths (adjust these to your actual paths)\n",
    "META_FILE = \"meta_video_games.jsonl\"\n",
    "USER_FILE = \"Video_Games.shortened_reduced_300_users.json\"\n",
    "OUTPUT_FILE = \"merged_reviews.json\"\n",
    "\n",
    "# 1. Load the meta data (JSONL file containing multiple JSON objects)\n",
    "meta_data = {}\n",
    "with open(META_FILE, \"r\", encoding=\"utf-8\") as f:\n",
    "    for line in f:\n",
    "        meta_entry = json.loads(line)\n",
    "        # Use the parent_asin as the key for easier lookup\n",
    "        meta_data[meta_entry[\"parent_asin\"]] = meta_entry[\"title\"]\n",
    "\n",
    "# 2. Load the user data (an array of user objects, each with 'reviews')\n",
    "with open(USER_FILE, \"r\", encoding=\"utf-8\") as f:\n",
    "    user_data = json.load(f)\n",
    "\n",
    "# 3. For each user, look at each review and add the product title if parent_asin matches\n",
    "for user in user_data:\n",
    "    for review in user[\"reviews\"]:\n",
    "        parent_asin = review.get(\"parent_asin\")\n",
    "        if parent_asin in meta_data:\n",
    "            # Add a new field (e.g., \"product_name\") or overwrite if you like\n",
    "            review[\"product_name\"] = meta_data[parent_asin]\n",
    "\n",
    "# 4. (Optional) Write out the merged data to a new JSON file\n",
    "with open(OUTPUT_FILE, \"w\", encoding=\"utf-8\") as f:\n",
    "    json.dump(user_data, f, indent=2, ensure_ascii=False)\n",
    "\n",
    "# Each review in 'user_data' now includes a \"product_name\" field if its parent_asin matches one in the meta data."
   ]
  },
  {
   "cell_type": "code",
   "execution_count": null,
   "metadata": {},
   "outputs": [],
   "source": []
  }
 ],
 "metadata": {
  "kernelspec": {
   "display_name": "torch_recommender",
   "language": "python",
   "name": "python3"
  },
  "language_info": {
   "codemirror_mode": {
    "name": "ipython",
    "version": 3
   },
   "file_extension": ".py",
   "mimetype": "text/x-python",
   "name": "python",
   "nbconvert_exporter": "python",
   "pygments_lexer": "ipython3",
   "version": "3.10.10"
  }
 },
 "nbformat": 4,
 "nbformat_minor": 2
}
