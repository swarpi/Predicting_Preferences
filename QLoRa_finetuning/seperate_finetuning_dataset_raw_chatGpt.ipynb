{
 "cells": [
  {
   "cell_type": "code",
   "execution_count": 1,
   "metadata": {},
   "outputs": [],
   "source": [
    "import pandas as pd"
   ]
  },
  {
   "cell_type": "code",
   "execution_count": 24,
   "metadata": {},
   "outputs": [
    {
     "name": "stdout",
     "output_type": "stream",
     "text": [
      "Matching data written to qlora_finetuning/matching_ids.json\n",
      "Non-matching data written to qlora_finetuning/non_matching_ids.json\n"
     ]
    }
   ],
   "source": [
    "import json\n",
    "\n",
    "def split_finetuning_data(filtered_data_path, finetuning_data_path, output_matching_path, output_non_matching_path):\n",
    "    \"\"\"\n",
    "    Splits the finetuning data into two JSON files:\n",
    "    1. Items with User_IDs matching the pipeline User_asin.\n",
    "    2. Items with User_IDs not present in the pipeline.\n",
    "\n",
    "    Parameters:\n",
    "        filtered_data_path (str): Path to the filtered pipeline data JSON file.\n",
    "        finetuning_data_path (str): Path to the finetuning dataset JSON file.\n",
    "        output_matching_path (str): Path to save the JSON file with matching User_IDs.\n",
    "        output_non_matching_path (str): Path to save the JSON file with non-matching User_IDs.\n",
    "    \"\"\"\n",
    "    # Load filtered data\n",
    "    with open(filtered_data_path, 'r') as filtered_file:\n",
    "        filtered_data = json.load(filtered_file)\n",
    "    \n",
    "    # Load finetuning data\n",
    "    with open(finetuning_data_path, 'r') as finetuning_file:\n",
    "        finetuning_data = json.load(finetuning_file)\n",
    "\n",
    "    # Extract user_asin values from filtered data\n",
    "    pipeline_user_ids = set()\n",
    "    for item in filtered_data:\n",
    "        if 'users' in item:\n",
    "            for user in item['users']:\n",
    "                if 'User_asin' in user:\n",
    "                    pipeline_user_ids.add(user['User_asin'])\n",
    "\n",
    "    # Separate finetuning data\n",
    "    matching_items = []\n",
    "    non_matching_items = []\n",
    "\n",
    "    for item in finetuning_data:\n",
    "        if item[\"User_ID\"] in pipeline_user_ids:\n",
    "            matching_items.append(item)\n",
    "        else:\n",
    "            non_matching_items.append(item)\n",
    "\n",
    "    # Write matching and non-matching items to separate JSON files\n",
    "    with open(output_matching_path, 'w', encoding='utf-8') as match_file:\n",
    "        json.dump(matching_items, match_file, ensure_ascii=False, indent=4)\n",
    "\n",
    "    with open(output_non_matching_path, 'w', encoding='utf-8') as non_match_file:\n",
    "        json.dump(non_matching_items, non_match_file, ensure_ascii=False, indent=4)\n",
    "\n",
    "    print(f\"Matching data written to {output_matching_path}\")\n",
    "    print(f\"Non-matching data written to {output_non_matching_path}\")\n",
    "\n",
    "# File paths\n",
    "filtered_data_path = 'qlora_finetuning/qlora_finetuning_dataset_19_11_with_id.json'\n",
    "finetuning_data_path = 'qlora_finetuning/new_candidate_items_with_profile.json'\n",
    "output_matching_path = 'qlora_finetuning/matching_ids.json'\n",
    "output_non_matching_path = 'qlora_finetuning/non_matching_ids.json'\n",
    "\n",
    "# Run the function\n",
    "split_finetuning_data(filtered_data_path, finetuning_data_path, output_matching_path, output_non_matching_path)\n"
   ]
  },
  {
   "cell_type": "code",
   "execution_count": null,
   "metadata": {},
   "outputs": [
    {
     "name": "stdout",
     "output_type": "stream",
     "text": [
      "None\n"
     ]
    }
   ],
   "source": []
  },
  {
   "cell_type": "code",
   "execution_count": null,
   "metadata": {},
   "outputs": [],
   "source": []
  }
 ],
 "metadata": {
  "kernelspec": {
   "display_name": "Python 3",
   "language": "python",
   "name": "python3"
  },
  "language_info": {
   "codemirror_mode": {
    "name": "ipython",
    "version": 3
   },
   "file_extension": ".py",
   "mimetype": "text/x-python",
   "name": "python",
   "nbconvert_exporter": "python",
   "pygments_lexer": "ipython3",
   "version": "3.11.6"
  }
 },
 "nbformat": 4,
 "nbformat_minor": 2
}
